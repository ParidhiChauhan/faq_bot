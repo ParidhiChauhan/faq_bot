
{
 "cells": [
  {
   "cell_type": "markdown",
   "metadata": {},
   "source": [
    "# FAQ Bot Demo (Jupyter)\n",
    "This notebook demonstrates the entire pipeline for the Jupiter FAQ Bot."
   ]
  },
  {
   "cell_type": "code",
   "execution_count": null,
   "metadata": {},
   "outputs": [],
   "source": [
    "from backend.faq_bot_llm import answer_query\n",
    "query = "How to check my card limit?"\n",
    "print(answer_query(query))"
   ]
  }
 ],
 "metadata": {
  "kernelspec": {
   "display_name": "Python 3",
   "language": "python",
   "name": "python3"
  },
  "language_info": {
   "name": "python",
   "version": "3.8"
  }
 },
 "nbformat": 4,
 "nbformat_minor": 5
}
